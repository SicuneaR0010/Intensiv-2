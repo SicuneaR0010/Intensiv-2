{
 "cells": [
  {
   "cell_type": "markdown",
   "metadata": {},
   "source": [
    "Здесь будет описан алгоритм разбиения данных по колонке target, и заполнения пропусков по схожести данных"
   ]
  },
  {
   "cell_type": "code",
   "execution_count": 1,
   "metadata": {},
   "outputs": [],
   "source": [
    "import pandas as pd\n",
    "import missingno as msn\n",
    "import warnings\n",
    "warnings.filterwarnings(\"ignore\")"
   ]
  },
  {
   "cell_type": "markdown",
   "metadata": {},
   "source": [
    "После импорта библиотек, загружаем данные и удаляем колонки с наполненостью менее 20%"
   ]
  },
  {
   "cell_type": "code",
   "execution_count": 2,
   "metadata": {},
   "outputs": [],
   "source": [
    "df = pd.read_csv(\"../processed_train.csv\")\n",
    "df = df.drop(columns='report_date')\n",
    "df = df.loc[:, ((df.isnull())).mean() < 0.8]"
   ]
  },
  {
   "cell_type": "markdown",
   "metadata": {},
   "source": [
    "Разбиваем датафрем на два по target"
   ]
  },
  {
   "cell_type": "code",
   "execution_count": 3,
   "metadata": {},
   "outputs": [],
   "source": [
    "df_target_0 = df[df['target'] == 0]\n",
    "df_target_1 = df[df['target'] == 1]"
   ]
  },
  {
   "cell_type": "markdown",
   "metadata": {},
   "source": [
    "Оцениваем % пропусков"
   ]
  },
  {
   "cell_type": "code",
   "execution_count": null,
   "metadata": {},
   "outputs": [],
   "source": [
    "msn.bar(df_target_1, fontsize=10, color=(1, 0.75, 0.8))"
   ]
  },
  {
   "cell_type": "markdown",
   "metadata": {},
   "source": [
    "При помощи улучшенного алгоритма kNN (аналог KNNImputer из sklearn.impute) заполняем данные"
   ]
  },
  {
   "cell_type": "code",
   "execution_count": 76,
   "metadata": {},
   "outputs": [
    {
     "name": "stdout",
     "output_type": "stream",
     "text": [
      "Imputing row 1/14020 with 8 missing, elapsed time: 17.431\n",
      "Imputing row 101/14020 with 3 missing, elapsed time: 17.452\n",
      "Imputing row 201/14020 with 8 missing, elapsed time: 17.474\n",
      "Imputing row 301/14020 with 5 missing, elapsed time: 17.490\n",
      "Imputing row 401/14020 with 4 missing, elapsed time: 17.506\n",
      "Imputing row 501/14020 with 4 missing, elapsed time: 17.520\n",
      "Imputing row 601/14020 with 9 missing, elapsed time: 17.536\n",
      "Imputing row 701/14020 with 9 missing, elapsed time: 17.556\n",
      "Imputing row 801/14020 with 4 missing, elapsed time: 17.571\n",
      "Imputing row 901/14020 with 3 missing, elapsed time: 17.588\n",
      "Imputing row 1001/14020 with 3 missing, elapsed time: 17.604\n",
      "Imputing row 1101/14020 with 0 missing, elapsed time: 17.621\n",
      "Imputing row 1201/14020 with 5 missing, elapsed time: 17.636\n",
      "Imputing row 1301/14020 with 8 missing, elapsed time: 17.652\n",
      "Imputing row 1401/14020 with 5 missing, elapsed time: 17.669\n",
      "Imputing row 1501/14020 with 8 missing, elapsed time: 17.687\n",
      "Imputing row 1601/14020 with 4 missing, elapsed time: 17.703\n",
      "Imputing row 1701/14020 with 4 missing, elapsed time: 17.719\n",
      "Imputing row 1801/14020 with 1 missing, elapsed time: 17.737\n",
      "Imputing row 1901/14020 with 9 missing, elapsed time: 17.753\n",
      "Imputing row 2001/14020 with 4 missing, elapsed time: 17.768\n",
      "Imputing row 2101/14020 with 7 missing, elapsed time: 17.784\n",
      "Imputing row 2201/14020 with 0 missing, elapsed time: 17.802\n",
      "Imputing row 2301/14020 with 0 missing, elapsed time: 17.819\n",
      "Imputing row 2401/14020 with 3 missing, elapsed time: 17.836\n",
      "Imputing row 2501/14020 with 9 missing, elapsed time: 17.851\n",
      "Imputing row 2601/14020 with 5 missing, elapsed time: 17.868\n",
      "Imputing row 2701/14020 with 8 missing, elapsed time: 17.886\n",
      "Imputing row 2801/14020 with 3 missing, elapsed time: 17.904\n",
      "Imputing row 2901/14020 with 1 missing, elapsed time: 17.922\n",
      "Imputing row 3001/14020 with 4 missing, elapsed time: 17.940\n",
      "Imputing row 3101/14020 with 8 missing, elapsed time: 17.958\n",
      "Imputing row 3201/14020 with 8 missing, elapsed time: 17.974\n",
      "Imputing row 3301/14020 with 2 missing, elapsed time: 17.991\n",
      "Imputing row 3401/14020 with 3 missing, elapsed time: 18.007\n",
      "Imputing row 3501/14020 with 1 missing, elapsed time: 18.027\n",
      "Imputing row 3601/14020 with 8 missing, elapsed time: 18.043\n",
      "Imputing row 3701/14020 with 3 missing, elapsed time: 18.062\n",
      "Imputing row 3801/14020 with 8 missing, elapsed time: 18.082\n",
      "Imputing row 3901/14020 with 5 missing, elapsed time: 18.097\n",
      "Imputing row 4001/14020 with 9 missing, elapsed time: 18.114\n",
      "Imputing row 4101/14020 with 6 missing, elapsed time: 18.133\n",
      "Imputing row 4201/14020 with 5 missing, elapsed time: 18.151\n",
      "Imputing row 4301/14020 with 3 missing, elapsed time: 18.170\n",
      "Imputing row 4401/14020 with 0 missing, elapsed time: 18.189\n",
      "Imputing row 4501/14020 with 5 missing, elapsed time: 18.205\n",
      "Imputing row 4601/14020 with 2 missing, elapsed time: 18.224\n",
      "Imputing row 4701/14020 with 4 missing, elapsed time: 18.241\n",
      "Imputing row 4801/14020 with 3 missing, elapsed time: 18.257\n",
      "Imputing row 4901/14020 with 8 missing, elapsed time: 18.272\n",
      "Imputing row 5001/14020 with 8 missing, elapsed time: 18.288\n",
      "Imputing row 5101/14020 with 4 missing, elapsed time: 18.306\n",
      "Imputing row 5201/14020 with 0 missing, elapsed time: 18.323\n",
      "Imputing row 5301/14020 with 4 missing, elapsed time: 18.342\n",
      "Imputing row 5401/14020 with 5 missing, elapsed time: 18.357\n",
      "Imputing row 5501/14020 with 8 missing, elapsed time: 18.373\n",
      "Imputing row 5601/14020 with 4 missing, elapsed time: 18.390\n",
      "Imputing row 5701/14020 with 9 missing, elapsed time: 18.410\n",
      "Imputing row 5801/14020 with 3 missing, elapsed time: 18.428\n",
      "Imputing row 5901/14020 with 8 missing, elapsed time: 18.445\n",
      "Imputing row 6001/14020 with 8 missing, elapsed time: 18.462\n",
      "Imputing row 6101/14020 with 4 missing, elapsed time: 18.480\n",
      "Imputing row 6201/14020 with 4 missing, elapsed time: 18.494\n",
      "Imputing row 6301/14020 with 8 missing, elapsed time: 18.511\n",
      "Imputing row 6401/14020 with 5 missing, elapsed time: 18.528\n",
      "Imputing row 6501/14020 with 4 missing, elapsed time: 18.545\n",
      "Imputing row 6601/14020 with 8 missing, elapsed time: 18.563\n",
      "Imputing row 6701/14020 with 0 missing, elapsed time: 18.581\n",
      "Imputing row 6801/14020 with 5 missing, elapsed time: 18.597\n",
      "Imputing row 6901/14020 with 9 missing, elapsed time: 18.614\n",
      "Imputing row 7001/14020 with 0 missing, elapsed time: 18.633\n",
      "Imputing row 7101/14020 with 4 missing, elapsed time: 18.652\n",
      "Imputing row 7201/14020 with 0 missing, elapsed time: 18.667\n",
      "Imputing row 7301/14020 with 3 missing, elapsed time: 18.683\n",
      "Imputing row 7401/14020 with 0 missing, elapsed time: 18.700\n",
      "Imputing row 7501/14020 with 5 missing, elapsed time: 18.717\n",
      "Imputing row 7601/14020 with 3 missing, elapsed time: 18.735\n",
      "Imputing row 7701/14020 with 3 missing, elapsed time: 18.755\n",
      "Imputing row 7801/14020 with 0 missing, elapsed time: 18.774\n",
      "Imputing row 7901/14020 with 5 missing, elapsed time: 18.789\n",
      "Imputing row 8001/14020 with 4 missing, elapsed time: 18.804\n",
      "Imputing row 8101/14020 with 3 missing, elapsed time: 18.822\n",
      "Imputing row 8201/14020 with 8 missing, elapsed time: 18.841\n",
      "Imputing row 8301/14020 with 3 missing, elapsed time: 18.858\n",
      "Imputing row 8401/14020 with 4 missing, elapsed time: 18.877\n",
      "Imputing row 8501/14020 with 3 missing, elapsed time: 18.898\n",
      "Imputing row 8601/14020 with 4 missing, elapsed time: 18.925\n",
      "Imputing row 8701/14020 with 9 missing, elapsed time: 18.956\n",
      "Imputing row 8801/14020 with 5 missing, elapsed time: 18.984\n",
      "Imputing row 8901/14020 with 8 missing, elapsed time: 19.015\n",
      "Imputing row 9001/14020 with 5 missing, elapsed time: 19.040\n",
      "Imputing row 9101/14020 with 4 missing, elapsed time: 19.066\n",
      "Imputing row 9201/14020 with 9 missing, elapsed time: 19.089\n",
      "Imputing row 9301/14020 with 8 missing, elapsed time: 19.108\n",
      "Imputing row 9401/14020 with 8 missing, elapsed time: 19.129\n",
      "Imputing row 9501/14020 with 5 missing, elapsed time: 19.153\n",
      "Imputing row 9601/14020 with 3 missing, elapsed time: 19.172\n",
      "Imputing row 9701/14020 with 5 missing, elapsed time: 19.190\n",
      "Imputing row 9801/14020 with 4 missing, elapsed time: 19.209\n",
      "Imputing row 9901/14020 with 1 missing, elapsed time: 19.228\n",
      "Imputing row 10001/14020 with 9 missing, elapsed time: 19.247\n",
      "Imputing row 10101/14020 with 3 missing, elapsed time: 19.264\n",
      "Imputing row 10201/14020 with 0 missing, elapsed time: 19.284\n",
      "Imputing row 10301/14020 with 0 missing, elapsed time: 19.300\n",
      "Imputing row 10401/14020 with 9 missing, elapsed time: 19.324\n",
      "Imputing row 10501/14020 with 3 missing, elapsed time: 19.357\n",
      "Imputing row 10601/14020 with 0 missing, elapsed time: 19.384\n",
      "Imputing row 10701/14020 with 8 missing, elapsed time: 19.404\n",
      "Imputing row 10801/14020 with 8 missing, elapsed time: 19.421\n",
      "Imputing row 10901/14020 with 9 missing, elapsed time: 19.444\n",
      "Imputing row 11001/14020 with 5 missing, elapsed time: 19.467\n",
      "Imputing row 11101/14020 with 9 missing, elapsed time: 19.485\n",
      "Imputing row 11201/14020 with 8 missing, elapsed time: 19.501\n",
      "Imputing row 11301/14020 with 5 missing, elapsed time: 19.522\n",
      "Imputing row 11401/14020 with 9 missing, elapsed time: 19.538\n",
      "Imputing row 11501/14020 with 0 missing, elapsed time: 19.557\n",
      "Imputing row 11601/14020 with 0 missing, elapsed time: 19.575\n",
      "Imputing row 11701/14020 with 3 missing, elapsed time: 19.596\n",
      "Imputing row 11801/14020 with 4 missing, elapsed time: 19.622\n",
      "Imputing row 11901/14020 with 4 missing, elapsed time: 19.656\n",
      "Imputing row 12001/14020 with 4 missing, elapsed time: 19.687\n",
      "Imputing row 12101/14020 with 4 missing, elapsed time: 19.718\n",
      "Imputing row 12201/14020 with 4 missing, elapsed time: 19.755\n",
      "Imputing row 12301/14020 with 8 missing, elapsed time: 19.773\n",
      "Imputing row 12401/14020 with 3 missing, elapsed time: 19.790\n",
      "Imputing row 12501/14020 with 1 missing, elapsed time: 19.807\n",
      "Imputing row 12601/14020 with 0 missing, elapsed time: 19.824\n",
      "Imputing row 12701/14020 with 4 missing, elapsed time: 19.841\n",
      "Imputing row 12801/14020 with 4 missing, elapsed time: 19.861\n",
      "Imputing row 12901/14020 with 4 missing, elapsed time: 19.876\n",
      "Imputing row 13001/14020 with 5 missing, elapsed time: 19.896\n",
      "Imputing row 13101/14020 with 4 missing, elapsed time: 19.913\n",
      "Imputing row 13201/14020 with 4 missing, elapsed time: 19.930\n",
      "Imputing row 13301/14020 with 9 missing, elapsed time: 19.948\n",
      "Imputing row 13401/14020 with 8 missing, elapsed time: 19.967\n",
      "Imputing row 13501/14020 with 4 missing, elapsed time: 19.986\n",
      "Imputing row 13601/14020 with 8 missing, elapsed time: 20.007\n",
      "Imputing row 13701/14020 with 4 missing, elapsed time: 20.024\n",
      "Imputing row 13801/14020 with 9 missing, elapsed time: 20.042\n",
      "Imputing row 13901/14020 with 7 missing, elapsed time: 20.061\n",
      "Imputing row 14001/14020 with 0 missing, elapsed time: 20.080\n",
      "Imputing row 1/436 with 5 missing, elapsed time: 0.014\n",
      "Imputing row 101/436 with 4 missing, elapsed time: 0.016\n",
      "Imputing row 201/436 with 1 missing, elapsed time: 0.018\n",
      "Imputing row 301/436 with 4 missing, elapsed time: 0.019\n",
      "Imputing row 401/436 with 8 missing, elapsed time: 0.021\n"
     ]
    }
   ],
   "source": [
    "from fancyimpute import KNN\n",
    "\n",
    "df_filled_0 = pd.DataFrame(KNN(k=6).fit_transform(df_target_0), columns=df_target_0.columns)\n",
    "df_filled_1 = pd.DataFrame(KNN(k=6).fit_transform(df_target_1), columns=df_target_1.columns)\n",
    "df_combined = pd.concat([df_filled_0, df_filled_1])"
   ]
  },
  {
   "cell_type": "markdown",
   "metadata": {},
   "source": [
    "Обучаем модуль и смотрим метрику по ней"
   ]
  },
  {
   "cell_type": "code",
   "execution_count": 77,
   "metadata": {},
   "outputs": [
    {
     "data": {
      "image/png": "[encoded data removed]",
      "text/plain": [
       "<Figure size 640x480 with 1 Axes>"
      ]
     },
     "metadata": {},
     "output_type": "display_data"
    },
    {
     "name": "stdout",
     "output_type": "stream",
     "text": [
      "AUC: 0.789\n"
     ]
    }
   ],
   "source": [
    "from sklearn.model_selection import train_test_split\n",
    "from sklearn.linear_model import LogisticRegression\n",
    "from sklearn import metrics\n",
    "import matplotlib.pyplot as plt\n",
    "\n",
    "data = df_combined\n",
    "X = data.drop(columns='target')\n",
    "y = data['target']\n",
    "\n",
    "X_train, X_test, y_train, y_test = train_test_split(X, y, test_size=0.3, random_state=384)\n",
    "\n",
    "# инициализация и обучение модели\n",
    "log_regression = LogisticRegression()\n",
    "log_regression.fit(X_train, y_train)\n",
    "\n",
    "# предсказание вероятностей\n",
    "y_pred_proba = log_regression.predict_proba(X_test)[:,1]\n",
    "\n",
    "fpr, tpr, _ = metrics.roc_curve(y_test,  y_pred_proba)\n",
    "\n",
    "# построение ROC кривой\n",
    "plt.plot(fpr, tpr)\n",
    "plt.ylabel('True Positive Rate')\n",
    "plt.xlabel('False Positive Rate')\n",
    "plt.show()\n",
    "\n",
    "auc = metrics.roc_auc_score(y_test, y_pred_proba)\n",
    "print(\"AUC: %.3f\" % auc)"
   ]
  }
 ],
 "metadata": {
  "kernelspec": {
   "display_name": "Python 3",
   "language": "python",
   "name": "python3"
  },
  "language_info": {
   "codemirror_mode": {
    "name": "ipython",
    "version": 3
   },
   "file_extension": ".py",
   "mimetype": "text/x-python",
   "name": "python",
   "nbconvert_exporter": "python",
   "pygments_lexer": "ipython3",
   "version": "3.13.1"
  }
 },
 "nbformat": 4,
 "nbformat_minor": 2
}
